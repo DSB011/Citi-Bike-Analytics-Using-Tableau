{
 "cells": [
  {
   "cell_type": "code",
   "execution_count": 1,
   "metadata": {},
   "outputs": [],
   "source": [
    "import pandas as pd\n",
    "import matplotlib.pyplot as plt\n",
    "import numpy as np"
   ]
  },
  {
   "cell_type": "code",
   "execution_count": 2,
   "metadata": {},
   "outputs": [],
   "source": [
    "JC_2017_01 = pd.read_csv(\"trip_data/JC-201701-citibike-tripdata 2.csv\")\n",
    "JC_2017_02 = pd.read_csv(\"trip_data/JC-201702-citibike-tripdata.csv\")\n",
    "JC_2017_03 = pd.read_csv(\"trip_data/JC-201703-citibike-tripdata.csv\")\n",
    "JC_2017_04 = pd.read_csv(\"trip_data/JC-201704-citibike-tripdata.csv\")\n",
    "JC_2017_05 = pd.read_csv(\"trip_data/JC-201705-citibike-tripdata.csv\")\n",
    "JC_2017_06 = pd.read_csv(\"trip_data/JC-201706-citibike-tripdata.csv\")\n",
    "JC_2017_07 = pd.read_csv(\"trip_data/JC-201707-citibike-tripdata.csv\")\n",
    "JC_2017_08 = pd.read_csv(\"trip_data/JC-201708 citibike-tripdata.csv\")\n",
    "JC_2017_09 = pd.read_csv(\"trip_data/JC-201709-citibike-tripdata.csv\")\n",
    "JC_2017_010 = pd.read_csv(\"trip_data/JC-201710-citibike-tripdata.csv\")\n",
    "JC_2017_011 = pd.read_csv(\"trip_data/JC-201711-citibike-tripdata.csv\")\n",
    "JC_2017_012 = pd.read_csv(\"trip_data/JC-201712-citibike-tripdata.csv\")\n"
   ]
  },
  {
   "cell_type": "code",
   "execution_count": 3,
   "metadata": {},
   "outputs": [
    {
     "data": {
      "text/html": [
       "<div>\n",
       "<style scoped>\n",
       "    .dataframe tbody tr th:only-of-type {\n",
       "        vertical-align: middle;\n",
       "    }\n",
       "\n",
       "    .dataframe tbody tr th {\n",
       "        vertical-align: top;\n",
       "    }\n",
       "\n",
       "    .dataframe thead th {\n",
       "        text-align: right;\n",
       "    }\n",
       "</style>\n",
       "<table border=\"1\" class=\"dataframe\">\n",
       "  <thead>\n",
       "    <tr style=\"text-align: right;\">\n",
       "      <th></th>\n",
       "      <th>tripduration</th>\n",
       "      <th>starttime</th>\n",
       "      <th>stoptime</th>\n",
       "      <th>start station id</th>\n",
       "      <th>start station name</th>\n",
       "      <th>start station latitude</th>\n",
       "      <th>start station longitude</th>\n",
       "      <th>end station id</th>\n",
       "      <th>end station name</th>\n",
       "      <th>end station latitude</th>\n",
       "      <th>end station longitude</th>\n",
       "      <th>bikeid</th>\n",
       "      <th>usertype</th>\n",
       "      <th>birth year</th>\n",
       "      <th>gender</th>\n",
       "    </tr>\n",
       "  </thead>\n",
       "  <tbody>\n",
       "    <tr>\n",
       "      <th>0</th>\n",
       "      <td>148</td>\n",
       "      <td>1/1/17 0:21</td>\n",
       "      <td>1/1/17 0:24</td>\n",
       "      <td>3276</td>\n",
       "      <td>Marin Light Rail</td>\n",
       "      <td>40.714584</td>\n",
       "      <td>-74.042817</td>\n",
       "      <td>3185</td>\n",
       "      <td>City Hall</td>\n",
       "      <td>40.717733</td>\n",
       "      <td>-74.043845</td>\n",
       "      <td>24575</td>\n",
       "      <td>Subscriber</td>\n",
       "      <td>1983.0</td>\n",
       "      <td>1</td>\n",
       "    </tr>\n",
       "    <tr>\n",
       "      <th>1</th>\n",
       "      <td>1283</td>\n",
       "      <td>1/1/17 0:24</td>\n",
       "      <td>1/1/17 0:45</td>\n",
       "      <td>3183</td>\n",
       "      <td>Exchange Place</td>\n",
       "      <td>40.716247</td>\n",
       "      <td>-74.033459</td>\n",
       "      <td>3198</td>\n",
       "      <td>Heights Elevator</td>\n",
       "      <td>40.748716</td>\n",
       "      <td>-74.040443</td>\n",
       "      <td>24723</td>\n",
       "      <td>Subscriber</td>\n",
       "      <td>1978.0</td>\n",
       "      <td>1</td>\n",
       "    </tr>\n",
       "    <tr>\n",
       "      <th>2</th>\n",
       "      <td>372</td>\n",
       "      <td>1/1/17 0:38</td>\n",
       "      <td>1/1/17 0:44</td>\n",
       "      <td>3183</td>\n",
       "      <td>Exchange Place</td>\n",
       "      <td>40.716247</td>\n",
       "      <td>-74.033459</td>\n",
       "      <td>3211</td>\n",
       "      <td>Newark Ave</td>\n",
       "      <td>40.721525</td>\n",
       "      <td>-74.046305</td>\n",
       "      <td>24620</td>\n",
       "      <td>Subscriber</td>\n",
       "      <td>1989.0</td>\n",
       "      <td>1</td>\n",
       "    </tr>\n",
       "    <tr>\n",
       "      <th>3</th>\n",
       "      <td>1513</td>\n",
       "      <td>1/1/17 0:38</td>\n",
       "      <td>1/1/17 1:03</td>\n",
       "      <td>3194</td>\n",
       "      <td>McGinley Square</td>\n",
       "      <td>40.725340</td>\n",
       "      <td>-74.067622</td>\n",
       "      <td>3271</td>\n",
       "      <td>Danforth Light Rail</td>\n",
       "      <td>40.692640</td>\n",
       "      <td>-74.088012</td>\n",
       "      <td>24668</td>\n",
       "      <td>Subscriber</td>\n",
       "      <td>1961.0</td>\n",
       "      <td>1</td>\n",
       "    </tr>\n",
       "    <tr>\n",
       "      <th>4</th>\n",
       "      <td>639</td>\n",
       "      <td>1/1/17 1:47</td>\n",
       "      <td>1/1/17 1:58</td>\n",
       "      <td>3183</td>\n",
       "      <td>Exchange Place</td>\n",
       "      <td>40.716247</td>\n",
       "      <td>-74.033459</td>\n",
       "      <td>3203</td>\n",
       "      <td>Hamilton Park</td>\n",
       "      <td>40.727596</td>\n",
       "      <td>-74.044247</td>\n",
       "      <td>26167</td>\n",
       "      <td>Subscriber</td>\n",
       "      <td>1993.0</td>\n",
       "      <td>1</td>\n",
       "    </tr>\n",
       "  </tbody>\n",
       "</table>\n",
       "</div>"
      ],
      "text/plain": [
       "   tripduration    starttime     stoptime  start station id  \\\n",
       "0           148  1/1/17 0:21  1/1/17 0:24              3276   \n",
       "1          1283  1/1/17 0:24  1/1/17 0:45              3183   \n",
       "2           372  1/1/17 0:38  1/1/17 0:44              3183   \n",
       "3          1513  1/1/17 0:38  1/1/17 1:03              3194   \n",
       "4           639  1/1/17 1:47  1/1/17 1:58              3183   \n",
       "\n",
       "  start station name  start station latitude  start station longitude  \\\n",
       "0   Marin Light Rail               40.714584               -74.042817   \n",
       "1     Exchange Place               40.716247               -74.033459   \n",
       "2     Exchange Place               40.716247               -74.033459   \n",
       "3    McGinley Square               40.725340               -74.067622   \n",
       "4     Exchange Place               40.716247               -74.033459   \n",
       "\n",
       "   end station id     end station name  end station latitude  \\\n",
       "0            3185            City Hall             40.717733   \n",
       "1            3198     Heights Elevator             40.748716   \n",
       "2            3211           Newark Ave             40.721525   \n",
       "3            3271  Danforth Light Rail             40.692640   \n",
       "4            3203        Hamilton Park             40.727596   \n",
       "\n",
       "   end station longitude  bikeid    usertype  birth year  gender  \n",
       "0             -74.043845   24575  Subscriber      1983.0       1  \n",
       "1             -74.040443   24723  Subscriber      1978.0       1  \n",
       "2             -74.046305   24620  Subscriber      1989.0       1  \n",
       "3             -74.088012   24668  Subscriber      1961.0       1  \n",
       "4             -74.044247   26167  Subscriber      1993.0       1  "
      ]
     },
     "execution_count": 3,
     "metadata": {},
     "output_type": "execute_result"
    }
   ],
   "source": [
    "dataframes = [JC_2017_01, JC_2017_02, JC_2017_03, JC_2017_04,JC_2017_05,JC_2017_06,JC_2017_07,JC_2017_08,JC_2017_09,JC_2017_010,JC_2017_011,JC_2017_012]\n",
    "merged_trip_data = pd.concat(dataframes)\n",
    "merged_trip_data = merged_trip_data.reset_index(drop = True)\n",
    "merged_trip_data.to_csv(\"trip_data/merged_tripdata.csv\")\n",
    "merged_trip_data.head()"
   ]
  },
  {
   "cell_type": "code",
   "execution_count": 4,
   "metadata": {
    "scrolled": false
   },
   "outputs": [
    {
     "data": {
      "text/plain": [
       "Index(['tripduration', 'starttime', 'stoptime', 'start station id',\n",
       "       'start station name', 'start station latitude',\n",
       "       'start station longitude', 'end station id', 'end station name',\n",
       "       'end station latitude', 'end station longitude', 'bikeid', 'usertype',\n",
       "       'birth year', 'gender'],\n",
       "      dtype='object')"
      ]
     },
     "execution_count": 4,
     "metadata": {},
     "output_type": "execute_result"
    }
   ],
   "source": [
    "merged_trip_data.columns"
   ]
  },
  {
   "cell_type": "code",
   "execution_count": 5,
   "metadata": {},
   "outputs": [
    {
     "data": {
      "text/plain": [
       "RangeIndex(start=0, stop=294928, step=1)"
      ]
     },
     "execution_count": 5,
     "metadata": {},
     "output_type": "execute_result"
    }
   ],
   "source": [
    "merged_trip_data.index"
   ]
  },
  {
   "cell_type": "code",
   "execution_count": 6,
   "metadata": {},
   "outputs": [
    {
     "data": {
      "text/plain": [
       "array([[148, '1/1/17 0:21', '1/1/17 0:24', ..., 'Subscriber', 1983.0, 1],\n",
       "       [1283, '1/1/17 0:24', '1/1/17 0:45', ..., 'Subscriber', 1978.0, 1],\n",
       "       [372, '1/1/17 0:38', '1/1/17 0:44', ..., 'Subscriber', 1989.0, 1],\n",
       "       ...,\n",
       "       [93, '2017-12-31 22:55:10', '2017-12-31 22:56:43', ...,\n",
       "        'Subscriber', 1957.0, 1],\n",
       "       [186, '2017-12-31 23:20:54', '2017-12-31 23:24:00', ...,\n",
       "        'Subscriber', 1964.0, 1],\n",
       "       [422, '2017-12-31 23:33:55', '2017-12-31 23:40:57', ...,\n",
       "        'Subscriber', 1979.0, 1]], dtype=object)"
      ]
     },
     "execution_count": 6,
     "metadata": {},
     "output_type": "execute_result"
    }
   ],
   "source": [
    "merged_trip_data.values"
   ]
  },
  {
   "cell_type": "code",
   "execution_count": 7,
   "metadata": {},
   "outputs": [
    {
     "data": {
      "text/plain": [
       "(294928, 15)"
      ]
     },
     "execution_count": 7,
     "metadata": {},
     "output_type": "execute_result"
    }
   ],
   "source": [
    "merged_trip_data.shape"
   ]
  },
  {
   "cell_type": "code",
   "execution_count": null,
   "metadata": {},
   "outputs": [],
   "source": []
  }
 ],
 "metadata": {
  "kernelspec": {
   "display_name": "Python 3",
   "language": "python",
   "name": "python3"
  },
  "language_info": {
   "codemirror_mode": {
    "name": "ipython",
    "version": 3
   },
   "file_extension": ".py",
   "mimetype": "text/x-python",
   "name": "python",
   "nbconvert_exporter": "python",
   "pygments_lexer": "ipython3",
   "version": "3.7.6"
  }
 },
 "nbformat": 4,
 "nbformat_minor": 4
}
